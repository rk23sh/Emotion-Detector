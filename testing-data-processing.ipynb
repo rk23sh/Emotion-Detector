{
 "cells": [
  {
   "cell_type": "code",
   "execution_count": 1,
   "id": "5c36c164",
   "metadata": {},
   "outputs": [],
   "source": [
    "import numpy as np\n",
    "import cv2\n",
    "import os\n",
    "import matplotlib.pyplot as plt"
   ]
  },
  {
   "cell_type": "code",
   "execution_count": 2,
   "id": "0842ed02",
   "metadata": {},
   "outputs": [],
   "source": [
    "dataset = []"
   ]
  },
  {
   "cell_type": "code",
   "execution_count": 3,
   "id": "b2446f02",
   "metadata": {},
   "outputs": [],
   "source": [
    "def getBinaryImage(image):\n",
    "    return cv2.threshold(image,128,155,cv2.THRESH_BINARY)[1]\n"
   ]
  },
  {
   "cell_type": "code",
   "execution_count": 4,
   "id": "331e4656",
   "metadata": {},
   "outputs": [],
   "source": [
    "def getData(path):\n",
    "    image = cv2.imread(path,cv2.IMREAD_GRAYSCALE)\n",
    "    #bimg = getBinaryImage(image)/255\n",
    "    \n",
    "    return image"
   ]
  },
  {
   "cell_type": "code",
   "execution_count": 5,
   "id": "eabdb0ed",
   "metadata": {},
   "outputs": [],
   "source": [
    "def getImages(folder,folderId):\n",
    "    PATH = f\"./images/validation/{folder}\"\n",
    "    for img in os.listdir(PATH):\n",
    "        dataset.append((getData(os.path.join(PATH,img)),folderId))"
   ]
  },
  {
   "cell_type": "code",
   "execution_count": 6,
   "id": "ceedf128",
   "metadata": {},
   "outputs": [],
   "source": [
    "folders = ['angry','fear','happy', 'neutral','sad','surprise']\n",
    "for idx,folder in enumerate(folders):\n",
    "    getImages(folder,idx)"
   ]
  },
  {
   "cell_type": "code",
   "execution_count": 7,
   "id": "c5663528",
   "metadata": {},
   "outputs": [
    {
     "data": {
      "text/plain": [
       "6955"
      ]
     },
     "execution_count": 7,
     "metadata": {},
     "output_type": "execute_result"
    }
   ],
   "source": [
    "len(dataset)"
   ]
  },
  {
   "cell_type": "code",
   "execution_count": 8,
   "id": "8fdde946",
   "metadata": {},
   "outputs": [
    {
     "data": {
      "text/plain": [
       "<matplotlib.image.AxesImage at 0x24d71eb3a60>"
      ]
     },
     "execution_count": 8,
     "metadata": {},
     "output_type": "execute_result"
    },
    {
     "data": {
      "image/png": "[encoded data removed]",
      "text/plain": [
       "<Figure size 432x288 with 1 Axes>"
      ]
     },
     "metadata": {
      "needs_background": "light"
     },
     "output_type": "display_data"
    }
   ],
   "source": [
    "plt.imshow(dataset[150][0],'gray')"
   ]
  },
  {
   "cell_type": "code",
   "execution_count": 9,
   "id": "0699fe5f",
   "metadata": {},
   "outputs": [],
   "source": [
    "import random \n",
    "random.shuffle(dataset)"
   ]
  },
  {
   "cell_type": "code",
   "execution_count": 10,
   "id": "093a0c00",
   "metadata": {},
   "outputs": [],
   "source": [
    "X_test = []\n",
    "Y_test = []\n",
    "for img,emotion in dataset:\n",
    "    X_test.append(img)\n",
    "    Y_test.append(emotion)"
   ]
  },
  {
   "cell_type": "code",
   "execution_count": 11,
   "id": "50ec0af4",
   "metadata": {},
   "outputs": [
    {
     "data": {
      "text/plain": [
       "(6955, 6955)"
      ]
     },
     "execution_count": 11,
     "metadata": {},
     "output_type": "execute_result"
    }
   ],
   "source": [
    "len(X_test),len(Y_test)"
   ]
  },
  {
   "cell_type": "code",
   "execution_count": 12,
   "id": "de6aa274",
   "metadata": {},
   "outputs": [],
   "source": [
    "X_test = np.array(X_test)\n",
    "Y_test = np.array(Y_test)"
   ]
  },
  {
   "cell_type": "code",
   "execution_count": 14,
   "id": "27dbb481",
   "metadata": {},
   "outputs": [],
   "source": [
    "import pickle \n",
    "test_feature = open('test_feature','wb')\n",
    "pickle.dump(X_test,test_feature)\n",
    "test_feature.close()\n",
    "\n",
    "test_label = open('test_label','wb')\n",
    "pickle.dump(Y_test,test_label)\n",
    "test_label.close()"
   ]
  },
  {
   "cell_type": "code",
   "execution_count": null,
   "id": "088653de",
   "metadata": {},
   "outputs": [],
   "source": []
  }
 ],
 "metadata": {
  "kernelspec": {
   "display_name": "Python 3 (ipykernel)",
   "language": "python",
   "name": "python3"
  },
  "language_info": {
   "codemirror_mode": {
    "name": "ipython",
    "version": 3
   },
   "file_extension": ".py",
   "mimetype": "text/x-python",
   "name": "python",
   "nbconvert_exporter": "python",
   "pygments_lexer": "ipython3",
   "version": "3.10.2"
  }
 },
 "nbformat": 4,
 "nbformat_minor": 5
}
