{
 "cells": [
  {
   "cell_type": "code",
   "execution_count": 3,
   "id": "45e1cfc8",
   "metadata": {},
   "outputs": [],
   "source": [
    "import pickle\n",
    "file = open('feature','rb')\n",
    "X_train = pickle.load(file)\n",
    "file.close()"
   ]
  },
  {
   "cell_type": "code",
   "execution_count": 4,
   "id": "52e8f640",
   "metadata": {},
   "outputs": [],
   "source": [
    "file = open('label','rb')\n",
    "Y_train = pickle.load(file)\n",
    "file.close()"
   ]
  },
  {
   "cell_type": "code",
   "execution_count": null,
   "id": "d4b00ce9",
   "metadata": {},
   "outputs": [],
   "source": []
  },
  {
   "cell_type": "code",
   "execution_count": 60,
   "id": "36415979",
   "metadata": {},
   "outputs": [],
   "source": [
    "from keras.models import Sequential\n",
    "from keras.layers import Conv2D, MaxPooling2D, Dense, Flatten, LeakyReLU, Dropout"
   ]
  },
  {
   "cell_type": "code",
   "execution_count": 133,
   "id": "b9b4e6dd",
   "metadata": {},
   "outputs": [],
   "source": [
    "model = Sequential([\n",
    "    Conv2D(64, (3,3), activation='relu', padding='same',input_shape=(48,48,1)),\n",
    "    MaxPooling2D((2,2)),\n",
    "    \n",
    "    Conv2D(64, (3,3), activation='relu',padding='same'),\n",
    "    MaxPooling2D((2,2)),\n",
    "    \n",
    "    Conv2D(50, (3,3), activation='relu',padding='same'),\n",
    "    Conv2D(50, (3,3), activation='relu',padding='same'),\n",
    "    Conv2D(50, (3,3), activation='relu',padding='same'),\n",
    "    MaxPooling2D((2,2)),\n",
    "    \n",
    "    Flatten(),\n",
    "    Dense(512, activation=LeakyReLU(alpha=0.01)),\n",
    "    Dense(128, activation=LeakyReLU(alpha=0.01)),\n",
    "    Dropout(0.2),\n",
    "    Dense(64, activation=LeakyReLU(alpha=0.01)),\n",
    "    Dropout(0.2),\n",
    "    Dense(48, activation=LeakyReLU(alpha=0.01)),\n",
    "    Dropout(0.2),\n",
    "    Dense(24, activation='relu'),\n",
    "    Dense(12, activation='relu'),\n",
    "    Dense(6, activation='softmax')\n",
    "])"
   ]
  },
  {
   "cell_type": "code",
   "execution_count": 134,
   "id": "6175a932",
   "metadata": {},
   "outputs": [],
   "source": [
    "model.compile(loss='sparse_categorical_crossentropy',optimizer='adam',metrics=['accuracy'])"
   ]
  },
  {
   "cell_type": "code",
   "execution_count": 141,
   "id": "f56864dc",
   "metadata": {},
   "outputs": [
    {
     "name": "stdout",
     "output_type": "stream",
     "text": [
      "Epoch 1/6\n",
      "563/563 [==============================] - 73s 129ms/step - loss: 0.4361 - accuracy: 0.8478\n",
      "Epoch 2/6\n",
      "563/563 [==============================] - 74s 131ms/step - loss: 0.4213 - accuracy: 0.8524\n",
      "Epoch 3/6\n",
      "563/563 [==============================] - 74s 132ms/step - loss: 0.3877 - accuracy: 0.8662\n",
      "Epoch 4/6\n",
      "563/563 [==============================] - 74s 132ms/step - loss: 0.3393 - accuracy: 0.8831\n",
      "Epoch 5/6\n",
      "563/563 [==============================] - 74s 131ms/step - loss: 0.3158 - accuracy: 0.8969\n",
      "Epoch 6/6\n",
      "563/563 [==============================] - 74s 132ms/step - loss: 0.3275 - accuracy: 0.8898\n"
     ]
    },
    {
     "data": {
      "text/plain": [
       "<keras.callbacks.History at 0x217589d9a20>"
      ]
     },
     "execution_count": 141,
     "metadata": {},
     "output_type": "execute_result"
    }
   ],
   "source": [
    "model.fit(X_train,Y_train,epochs=6,batch_size=32)"
   ]
  },
  {
   "cell_type": "code",
   "execution_count": 29,
   "id": "a8534bd0",
   "metadata": {},
   "outputs": [],
   "source": [
    "X = open('test_feature','rb')\n",
    "X_test = pickle.load(X)\n",
    "X.close()\n",
    "\n",
    "Y = open('test_label','rb')\n",
    "Y_test = pickle.load(Y)\n",
    "Y.close()"
   ]
  },
  {
   "cell_type": "code",
   "execution_count": 142,
   "id": "0e0e21ba",
   "metadata": {},
   "outputs": [
    {
     "name": "stdout",
     "output_type": "stream",
     "text": [
      "218/218 [==============================] - 7s 33ms/step - loss: 3.2652 - accuracy: 0.4850\n"
     ]
    },
    {
     "data": {
      "text/plain": [
       "[3.2651898860931396, 0.48497483134269714]"
      ]
     },
     "execution_count": 142,
     "metadata": {},
     "output_type": "execute_result"
    }
   ],
   "source": [
    "model.evaluate(X_test,Y_test)"
   ]
  },
  {
   "cell_type": "code",
   "execution_count": 21,
   "id": "9210ee56",
   "metadata": {},
   "outputs": [],
   "source": [
    "import cv2\n",
    "import numpy as np\n",
    "import matplotlib.pyplot as plt"
   ]
  },
  {
   "cell_type": "code",
   "execution_count": 143,
   "id": "a3c3a63a",
   "metadata": {},
   "outputs": [],
   "source": [
    "def predict(img):\n",
    "    img = cv2.imread(img)\n",
    "    img = cv2.cvtColor(img,cv2.COLOR_BGR2GRAY)\n",
    "    img = cv2.resize(img,(48,48))\n",
    "    print(img.shape)\n",
    "    result = model.predict(img.reshape(-1,48,48,1))\n",
    "    print(result)\n",
    "    plt.imshow(img,'gray')"
   ]
  },
  {
   "cell_type": "code",
   "execution_count": 144,
   "id": "21a44ec8",
   "metadata": {},
   "outputs": [
    {
     "name": "stdout",
     "output_type": "stream",
     "text": [
      "(48, 48)\n",
      "1/1 [==============================] - 0s 90ms/step\n",
      "[[9.6332580e-03 2.7983175e-03 1.0589624e-02 7.3190069e-01 2.4502373e-01\n",
      "  5.4332893e-05]]\n"
     ]
    },
    {
     "data": {
      "image/png": "[encoded data removed]",
      "text/plain": [
       "<Figure size 432x288 with 1 Axes>"
      ]
     },
     "metadata": {
      "needs_background": "light"
     },
     "output_type": "display_data"
    }
   ],
   "source": [
    "predict('detected.jpg')"
   ]
  },
  {
   "cell_type": "code",
   "execution_count": 145,
   "id": "7bee56c2",
   "metadata": {},
   "outputs": [],
   "source": [
    "from tensorflow.keras.models import save_model\n",
    "save_model(model,\"model.h5\")"
   ]
  },
  {
   "cell_type": "code",
   "execution_count": null,
   "id": "89933491",
   "metadata": {},
   "outputs": [],
   "source": []
  }
 ],
 "metadata": {
  "kernelspec": {
   "display_name": "Python 3 (ipykernel)",
   "language": "python",
   "name": "python3"
  },
  "language_info": {
   "codemirror_mode": {
    "name": "ipython",
    "version": 3
   },
   "file_extension": ".py",
   "mimetype": "text/x-python",
   "name": "python",
   "nbconvert_exporter": "python",
   "pygments_lexer": "ipython3",
   "version": "3.10.2"
  }
 },
 "nbformat": 4,
 "nbformat_minor": 5
}
